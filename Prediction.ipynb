{
 "cells": [
  {
   "cell_type": "code",
   "execution_count": 16,
   "id": "0d94b890-70c0-41fd-bb61-f032b2a9714f",
   "metadata": {},
   "outputs": [],
   "source": [
    "import tensorflow as tf\n",
    "from tensorflow.keras.models import load_model\n",
    "import pickle\n",
    "import pandas as pd\n",
    "import numpy as np"
   ]
  },
  {
   "cell_type": "code",
   "execution_count": 17,
   "id": "cb21ae3b-c942-4f09-b158-5c36d92f7efe",
   "metadata": {},
   "outputs": [
    {
     "name": "stderr",
     "output_type": "stream",
     "text": [
      "WARNING:absl:Compiled the loaded model, but the compiled metrics have yet to be built. `model.compile_metrics` will be empty until you train or evaluate the model.\n"
     ]
    }
   ],
   "source": [
    "model=load_model('Ann_ChunPrediction.h5')\n",
    "\n",
    "## load the encoder and scaler\n",
    "with open('Encoder_Contract.pkl','rb') as file:\n",
    "    Encoder_Contract=pickle.load(file)\n",
    "    \n",
    "with open('Encoder_Internet.pkl','rb') as file:\n",
    "    Encoder_Internet=pickle.load(file)\n",
    "    \n",
    "with open('Label_encoder.pkl', 'rb') as file:\n",
    "    label_encoder= pickle.load(file)\n",
    "\n",
    "with open('Sclar.pkl', 'rb') as file:\n",
    "    scaler = pickle.load(file)"
   ]
  },
  {
   "cell_type": "code",
   "execution_count": 18,
   "id": "bed94b46-c687-4c40-b11c-8b9c14e0e430",
   "metadata": {},
   "outputs": [],
   "source": [
    "new_data = pd.DataFrame([{\n",
    "    \"customerID\": \"590-VHVEG\",\n",
    "    \"gender\": \"Female\",\n",
    "    \"SeniorCitizen\": 0,\n",
    "    \"Partner\": \"Yes\",\n",
    "    \"Dependents\": \"No\",\n",
    "    \"tenure\": 1,\n",
    "    \"PhoneService\": \"No\",\n",
    "    \"MultipleLines\": \"No phone service\",\n",
    "    \"InternetService\": \"DSL\",\n",
    "    \"OnlineSecurity\": \"No\",\n",
    "    \"OnlineBackup\": \"Yes\",\n",
    "    \"DeviceProtection\": \"No\",\n",
    "    \"TechSupport\": \"No\",\n",
    "    \"StreamingTV\": \"No\",\n",
    "    \"StreamingMovies\": \"No\",\n",
    "    \"Contract\": \"Month-to-month\",\n",
    "    \"PaperlessBilling\": \"Yes\",\n",
    "    \"PaymentMethod\": \"Electronic check\",\n",
    "    \"MonthlyCharges\": 29.85,\n",
    "    \"TotalCharges\": 29.85,\n",
    "    # \"Churn\": \"No\"  # Optional if you just want to predict\n",
    "}])\n",
    "\n",
    "# Step 2: Drop columns not needed for prediction\n",
    "new_data=new_data.drop(columns=['customerID','SeniorCitizen','gender','Dependents','PaperlessBilling','PaymentMethod','MonthlyCharges','PhoneService','StreamingMovies'])"
   ]
  },
  {
   "cell_type": "code",
   "execution_count": 19,
   "id": "d4a955da-8c58-4dd1-a53f-7c6d4f6f6194",
   "metadata": {},
   "outputs": [
    {
     "data": {
      "text/html": [
       "<div>\n",
       "<style scoped>\n",
       "    .dataframe tbody tr th:only-of-type {\n",
       "        vertical-align: middle;\n",
       "    }\n",
       "\n",
       "    .dataframe tbody tr th {\n",
       "        vertical-align: top;\n",
       "    }\n",
       "\n",
       "    .dataframe thead th {\n",
       "        text-align: right;\n",
       "    }\n",
       "</style>\n",
       "<table border=\"1\" class=\"dataframe\">\n",
       "  <thead>\n",
       "    <tr style=\"text-align: right;\">\n",
       "      <th></th>\n",
       "      <th>Contract_Month-to-month</th>\n",
       "      <th>Contract_One year</th>\n",
       "      <th>Contract_Two year</th>\n",
       "    </tr>\n",
       "  </thead>\n",
       "  <tbody>\n",
       "    <tr>\n",
       "      <th>0</th>\n",
       "      <td>1.0</td>\n",
       "      <td>0.0</td>\n",
       "      <td>0.0</td>\n",
       "    </tr>\n",
       "  </tbody>\n",
       "</table>\n",
       "</div>"
      ],
      "text/plain": [
       "   Contract_Month-to-month  Contract_One year  Contract_Two year\n",
       "0                      1.0                0.0                0.0"
      ]
     },
     "execution_count": 19,
     "metadata": {},
     "output_type": "execute_result"
    }
   ],
   "source": [
    "# Transform Contract column (already returns ndarray)\n",
    "Encoder_Contract_ar = Encoder_Contract.transform(new_data[['Contract']])\n",
    "\n",
    "# Convert to DataFrame with proper column names\n",
    "Encoder_Contract_DF = pd.DataFrame(\n",
    "    Encoder_Contract_ar, \n",
    "    columns=Encoder_Contract.get_feature_names_out(['Contract'])\n",
    ")\n",
    "\n",
    "Encoder_Contract_DF"
   ]
  },
  {
   "cell_type": "code",
   "execution_count": 20,
   "id": "7796b2f6-7357-4a5d-b990-b54b861bb328",
   "metadata": {},
   "outputs": [
    {
     "data": {
      "text/html": [
       "<div>\n",
       "<style scoped>\n",
       "    .dataframe tbody tr th:only-of-type {\n",
       "        vertical-align: middle;\n",
       "    }\n",
       "\n",
       "    .dataframe tbody tr th {\n",
       "        vertical-align: top;\n",
       "    }\n",
       "\n",
       "    .dataframe thead th {\n",
       "        text-align: right;\n",
       "    }\n",
       "</style>\n",
       "<table border=\"1\" class=\"dataframe\">\n",
       "  <thead>\n",
       "    <tr style=\"text-align: right;\">\n",
       "      <th></th>\n",
       "      <th>InternetService_DSL</th>\n",
       "      <th>InternetService_Fiber optic</th>\n",
       "      <th>InternetService_No</th>\n",
       "    </tr>\n",
       "  </thead>\n",
       "  <tbody>\n",
       "    <tr>\n",
       "      <th>0</th>\n",
       "      <td>1.0</td>\n",
       "      <td>0.0</td>\n",
       "      <td>0.0</td>\n",
       "    </tr>\n",
       "  </tbody>\n",
       "</table>\n",
       "</div>"
      ],
      "text/plain": [
       "   InternetService_DSL  InternetService_Fiber optic  InternetService_No\n",
       "0                  1.0                          0.0                 0.0"
      ]
     },
     "execution_count": 20,
     "metadata": {},
     "output_type": "execute_result"
    }
   ],
   "source": [
    "# Transform InternetService column (returns ndarray)\n",
    "Encoder_Internet_ar = Encoder_Internet.transform(new_data[['InternetService']])\n",
    "\n",
    "# Convert to DataFrame with proper column names\n",
    "Encoder_Internet_DF = pd.DataFrame(\n",
    "    Encoder_Internet_ar,\n",
    "    columns=Encoder_Internet.get_feature_names_out(['InternetService'])\n",
    ")\n",
    "\n",
    "Encoder_Internet_DF\n"
   ]
  },
  {
   "cell_type": "code",
   "execution_count": 21,
   "id": "6f79471b-8c71-40c2-865d-7d508467bd1e",
   "metadata": {},
   "outputs": [],
   "source": [
    "# Replace special service values with 'No'\n",
    "replace_dict = {\n",
    "    'MultipleLines': 'No phone service',\n",
    "    'OnlineSecurity': 'No internet service',\n",
    "    'OnlineBackup': 'No internet service',\n",
    "    'DeviceProtection': 'No internet service',\n",
    "    'TechSupport': 'No internet service',\n",
    "    'StreamingTV': 'No internet service'\n",
    "}\n",
    "\n",
    "for col, val in replace_dict.items():\n",
    "    if val in new_data[col].values:\n",
    "        new_data[col] = new_data[col].replace(val, 'No')"
   ]
  },
  {
   "cell_type": "code",
   "execution_count": 22,
   "id": "8d4c39f6-c968-40af-806c-128b7e19951e",
   "metadata": {},
   "outputs": [],
   "source": [
    "binary_cols = ['StreamingTV', 'TechSupport', 'OnlineBackup','Partner',\n",
    "               'OnlineSecurity', 'DeviceProtection', 'MultipleLines']\n",
    "\n",
    "for col in binary_cols:\n",
    "    new_data[col] = label_encoder.transform(new_data[col])"
   ]
  },
  {
   "cell_type": "code",
   "execution_count": 23,
   "id": "07aa8a68-389f-4793-95aa-796e20899e52",
   "metadata": {},
   "outputs": [
    {
     "data": {
      "text/html": [
       "<div>\n",
       "<style scoped>\n",
       "    .dataframe tbody tr th:only-of-type {\n",
       "        vertical-align: middle;\n",
       "    }\n",
       "\n",
       "    .dataframe tbody tr th {\n",
       "        vertical-align: top;\n",
       "    }\n",
       "\n",
       "    .dataframe thead th {\n",
       "        text-align: right;\n",
       "    }\n",
       "</style>\n",
       "<table border=\"1\" class=\"dataframe\">\n",
       "  <thead>\n",
       "    <tr style=\"text-align: right;\">\n",
       "      <th></th>\n",
       "      <th>Partner</th>\n",
       "      <th>tenure</th>\n",
       "      <th>MultipleLines</th>\n",
       "      <th>InternetService</th>\n",
       "      <th>OnlineSecurity</th>\n",
       "      <th>OnlineBackup</th>\n",
       "      <th>DeviceProtection</th>\n",
       "      <th>TechSupport</th>\n",
       "      <th>StreamingTV</th>\n",
       "      <th>Contract</th>\n",
       "      <th>TotalCharges</th>\n",
       "    </tr>\n",
       "  </thead>\n",
       "  <tbody>\n",
       "    <tr>\n",
       "      <th>0</th>\n",
       "      <td>1</td>\n",
       "      <td>1</td>\n",
       "      <td>0</td>\n",
       "      <td>DSL</td>\n",
       "      <td>0</td>\n",
       "      <td>1</td>\n",
       "      <td>0</td>\n",
       "      <td>0</td>\n",
       "      <td>0</td>\n",
       "      <td>Month-to-month</td>\n",
       "      <td>29.85</td>\n",
       "    </tr>\n",
       "  </tbody>\n",
       "</table>\n",
       "</div>"
      ],
      "text/plain": [
       "   Partner  tenure  MultipleLines InternetService  OnlineSecurity  \\\n",
       "0        1       1              0             DSL               0   \n",
       "\n",
       "   OnlineBackup  DeviceProtection  TechSupport  StreamingTV        Contract  \\\n",
       "0             1                 0            0            0  Month-to-month   \n",
       "\n",
       "   TotalCharges  \n",
       "0         29.85  "
      ]
     },
     "execution_count": 23,
     "metadata": {},
     "output_type": "execute_result"
    }
   ],
   "source": [
    "new_data"
   ]
  },
  {
   "cell_type": "code",
   "execution_count": 24,
   "id": "cb745555-7163-4352-a1d4-028f47eb58cd",
   "metadata": {},
   "outputs": [],
   "source": [
    "new_data=pd.concat([new_data.drop(columns='InternetService',axis=1),Encoder_Internet_DF],axis=1)"
   ]
  },
  {
   "cell_type": "code",
   "execution_count": 25,
   "id": "1fc6054a-73c5-4b66-bddf-2171ae05681d",
   "metadata": {},
   "outputs": [],
   "source": [
    "new_data=pd.concat([new_data.drop(columns='Contract',axis=1),Encoder_Contract_DF],axis=1)"
   ]
  },
  {
   "cell_type": "code",
   "execution_count": 26,
   "id": "d7dcce2d-9105-41b4-9cb1-a626ddb548b6",
   "metadata": {},
   "outputs": [
    {
     "data": {
      "text/html": [
       "<div>\n",
       "<style scoped>\n",
       "    .dataframe tbody tr th:only-of-type {\n",
       "        vertical-align: middle;\n",
       "    }\n",
       "\n",
       "    .dataframe tbody tr th {\n",
       "        vertical-align: top;\n",
       "    }\n",
       "\n",
       "    .dataframe thead th {\n",
       "        text-align: right;\n",
       "    }\n",
       "</style>\n",
       "<table border=\"1\" class=\"dataframe\">\n",
       "  <thead>\n",
       "    <tr style=\"text-align: right;\">\n",
       "      <th></th>\n",
       "      <th>Partner</th>\n",
       "      <th>tenure</th>\n",
       "      <th>MultipleLines</th>\n",
       "      <th>OnlineSecurity</th>\n",
       "      <th>OnlineBackup</th>\n",
       "      <th>DeviceProtection</th>\n",
       "      <th>TechSupport</th>\n",
       "      <th>StreamingTV</th>\n",
       "      <th>TotalCharges</th>\n",
       "      <th>InternetService_DSL</th>\n",
       "      <th>InternetService_Fiber optic</th>\n",
       "      <th>InternetService_No</th>\n",
       "      <th>Contract_Month-to-month</th>\n",
       "      <th>Contract_One year</th>\n",
       "      <th>Contract_Two year</th>\n",
       "    </tr>\n",
       "  </thead>\n",
       "  <tbody>\n",
       "    <tr>\n",
       "      <th>0</th>\n",
       "      <td>1</td>\n",
       "      <td>1</td>\n",
       "      <td>0</td>\n",
       "      <td>0</td>\n",
       "      <td>1</td>\n",
       "      <td>0</td>\n",
       "      <td>0</td>\n",
       "      <td>0</td>\n",
       "      <td>29.85</td>\n",
       "      <td>1.0</td>\n",
       "      <td>0.0</td>\n",
       "      <td>0.0</td>\n",
       "      <td>1.0</td>\n",
       "      <td>0.0</td>\n",
       "      <td>0.0</td>\n",
       "    </tr>\n",
       "  </tbody>\n",
       "</table>\n",
       "</div>"
      ],
      "text/plain": [
       "   Partner  tenure  MultipleLines  OnlineSecurity  OnlineBackup  \\\n",
       "0        1       1              0               0             1   \n",
       "\n",
       "   DeviceProtection  TechSupport  StreamingTV  TotalCharges  \\\n",
       "0                 0            0            0         29.85   \n",
       "\n",
       "   InternetService_DSL  InternetService_Fiber optic  InternetService_No  \\\n",
       "0                  1.0                          0.0                 0.0   \n",
       "\n",
       "   Contract_Month-to-month  Contract_One year  Contract_Two year  \n",
       "0                      1.0                0.0                0.0  "
      ]
     },
     "execution_count": 26,
     "metadata": {},
     "output_type": "execute_result"
    }
   ],
   "source": [
    "new_data"
   ]
  },
  {
   "cell_type": "code",
   "execution_count": 27,
   "id": "f752e5dc-4399-4f57-8496-83aebe4bb96e",
   "metadata": {},
   "outputs": [],
   "source": [
    "new_data=scaler.transform(new_data)"
   ]
  },
  {
   "cell_type": "code",
   "execution_count": 28,
   "id": "6277cef5-88cd-40bc-8381-c3b6886cb0b7",
   "metadata": {},
   "outputs": [
    {
     "name": "stdout",
     "output_type": "stream",
     "text": [
      "\u001b[1m1/1\u001b[0m \u001b[32m━━━━━━━━━━━━━━━━━━━━\u001b[0m\u001b[37m\u001b[0m \u001b[1m0s\u001b[0m 104ms/step\n"
     ]
    }
   ],
   "source": [
    "prediction=model.predict(new_data)"
   ]
  },
  {
   "cell_type": "code",
   "execution_count": 29,
   "id": "466186fb-65cc-4534-bcaf-d7de736cf922",
   "metadata": {},
   "outputs": [
    {
     "data": {
      "text/plain": [
       "array([[0.1787922]], dtype=float32)"
      ]
     },
     "execution_count": 29,
     "metadata": {},
     "output_type": "execute_result"
    }
   ],
   "source": [
    "prediction"
   ]
  },
  {
   "cell_type": "code",
   "execution_count": 31,
   "id": "ee817285-086b-4776-9684-eada1ae5c76b",
   "metadata": {},
   "outputs": [
    {
     "data": {
      "text/plain": [
       "np.float32(0.1787922)"
      ]
     },
     "execution_count": 31,
     "metadata": {},
     "output_type": "execute_result"
    }
   ],
   "source": [
    "probablity=prediction[0][0]\n",
    "probablity"
   ]
  },
  {
   "cell_type": "code",
   "execution_count": 32,
   "id": "c26b88a1-6129-4965-ac4f-1be9e8d671b2",
   "metadata": {},
   "outputs": [
    {
     "name": "stdout",
     "output_type": "stream",
     "text": [
      "The customer is not likely to churn.\n"
     ]
    }
   ],
   "source": [
    "if probablity > 0.5:\n",
    "    print('The customer is likely to churn.')\n",
    "else:\n",
    "    print('The customer is not likely to churn.')"
   ]
  }
 ],
 "metadata": {
  "kernelspec": {
   "display_name": "default:Python",
   "language": "python",
   "name": "conda-env-default-py"
  },
  "language_info": {
   "codemirror_mode": {
    "name": "ipython",
    "version": 3
   },
   "file_extension": ".py",
   "mimetype": "text/x-python",
   "name": "python",
   "nbconvert_exporter": "python",
   "pygments_lexer": "ipython3",
   "version": "3.9.23"
  }
 },
 "nbformat": 4,
 "nbformat_minor": 5
}
